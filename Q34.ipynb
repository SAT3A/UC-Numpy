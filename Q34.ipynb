{
  "nbformat": 4,
  "nbformat_minor": 0,
  "metadata": {
    "colab": {
      "provenance": [],
      "authorship_tag": "ABX9TyMvIYuvwIeSJr9xTDbrantq",
      "include_colab_link": true
    },
    "kernelspec": {
      "name": "python3",
      "display_name": "Python 3"
    },
    "language_info": {
      "name": "python"
    }
  },
  "cells": [
    {
      "cell_type": "markdown",
      "metadata": {
        "id": "view-in-github",
        "colab_type": "text"
      },
      "source": [
        "<a href=\"https://colab.research.google.com/github/SAT3A/UC-Numpy/blob/Question/Q34.ipynb\" target=\"_parent\"><img src=\"https://colab.research.google.com/assets/colab-badge.svg\" alt=\"Open In Colab\"/></a>"
      ]
    },
    {
      "cell_type": "code",
      "execution_count": 79,
      "metadata": {
        "colab": {
          "base_uri": "https://localhost:8080/"
        },
        "id": "Utdzzx1eGTeu",
        "outputId": "d96f5961-2d9b-4602-bc35-82c4f30816c9"
      },
      "outputs": [
        {
          "output_type": "stream",
          "name": "stdout",
          "text": [
            "[ 4.99  3.49  9.99  1.99  9.99 14.99 14.99  2.39  7.29]\n"
          ]
        }
      ],
      "source": [
        "import numpy as np\n",
        " \n",
        " \n",
        "A = np.array([[4.99, 3.49, 9.99],\n",
        "              [1.99, 9.99, 14.99],\n",
        "              [14.99, 2.39, 7.29]])\n",
        " \n",
        "print(np.ravel(A))"
      ]
    },
    {
      "cell_type": "markdown",
      "source": [
        "## **BEST SOLUTION**"
      ],
      "metadata": {
        "id": "HtWnKSNjHlNO"
      }
    },
    {
      "cell_type": "code",
      "source": [
        "import numpy as np\n",
        " \n",
        " \n",
        "A = np.array([[4.99, 3.49, 9.99],\n",
        "              [1.99, 9.99, 14.99],\n",
        "              [14.99, 2.39, 7.29]])\n",
        " \n",
        "print(np.ravel(A))"
      ],
      "metadata": {
        "colab": {
          "base_uri": "https://localhost:8080/"
        },
        "id": "EM2PUPKaGdNq",
        "outputId": "27a6006e-4f3f-4dad-88ec-f298be60dc66"
      },
      "execution_count": 80,
      "outputs": [
        {
          "output_type": "stream",
          "name": "stdout",
          "text": [
            "[ 4.99  3.49  9.99  1.99  9.99 14.99 14.99  2.39  7.29]\n"
          ]
        }
      ]
    },
    {
      "cell_type": "code",
      "source": [],
      "metadata": {
        "id": "UESi2z8qK_AV"
      },
      "execution_count": null,
      "outputs": []
    }
  ]
}