{
  "nbformat": 4,
  "nbformat_minor": 0,
  "metadata": {
    "colab": {
      "provenance": [],
      "authorship_tag": "ABX9TyNRIAT+ztamKh+HY9DFFWzU",
      "include_colab_link": true
    },
    "kernelspec": {
      "name": "python3",
      "display_name": "Python 3"
    },
    "language_info": {
      "name": "python"
    }
  },
  "cells": [
    {
      "cell_type": "markdown",
      "metadata": {
        "id": "view-in-github",
        "colab_type": "text"
      },
      "source": [
        "<a href=\"https://colab.research.google.com/github/SAT3A/UC-Numpy/blob/Question/Q16.ipynb\" target=\"_parent\"><img src=\"https://colab.research.google.com/assets/colab-badge.svg\" alt=\"Open In Colab\"/></a>"
      ]
    },
    {
      "cell_type": "code",
      "execution_count": 43,
      "metadata": {
        "colab": {
          "base_uri": "https://localhost:8080/"
        },
        "id": "Utdzzx1eGTeu",
        "outputId": "77b3c6ea-9af5-4cb0-f503-c7cab0a58807"
      },
      "outputs": [
        {
          "output_type": "stream",
          "name": "stdout",
          "text": [
            "[[ 97.17349231 103.41650023  97.82942436 101.05220329]\n",
            " [ 99.7748353  100.67930221  96.14063068 103.544381  ]\n",
            " [100.30029631  97.52499594 103.52901961 100.24037271]\n",
            " [ 98.29153712  98.2666258  103.09437633 101.70027274]\n",
            " [ 99.36127721 101.20382627  95.34026547 102.09694365]\n",
            " [ 99.98708001  98.95468525  99.05410904 102.38025432]\n",
            " [ 93.50787269 103.61547679 103.18753701  98.51356237]\n",
            " [102.20256689  96.19764407  97.54000366  97.05813038]\n",
            " [101.81233513  97.66380453  98.45883627  98.09317768]\n",
            " [102.48979932  95.70413391  98.43161651 101.89861815]]\n"
          ]
        }
      ],
      "source": [
        "import numpy as np\n",
        " \n",
        " \n",
        "np.random.seed(30)\n",
        " \n",
        "sigma = np.sqrt(5)\n",
        "mu = 100\n",
        " \n",
        "print(sigma * np.random.randn(10, 4) + mu)"
      ]
    },
    {
      "cell_type": "markdown",
      "source": [
        "## **BEST SOLUTION**"
      ],
      "metadata": {
        "id": "HtWnKSNjHlNO"
      }
    },
    {
      "cell_type": "code",
      "source": [
        "import numpy as np\n",
        " \n",
        " \n",
        "np.random.seed(30)\n",
        " \n",
        "sigma = np.sqrt(5)\n",
        "mu = 100\n",
        " \n",
        "print(sigma * np.random.randn(10, 4) + mu)"
      ],
      "metadata": {
        "colab": {
          "base_uri": "https://localhost:8080/"
        },
        "id": "EM2PUPKaGdNq",
        "outputId": "5ab4a94a-8d44-44c9-c528-c4e178a37231"
      },
      "execution_count": 44,
      "outputs": [
        {
          "output_type": "stream",
          "name": "stdout",
          "text": [
            "[[ 97.17349231 103.41650023  97.82942436 101.05220329]\n",
            " [ 99.7748353  100.67930221  96.14063068 103.544381  ]\n",
            " [100.30029631  97.52499594 103.52901961 100.24037271]\n",
            " [ 98.29153712  98.2666258  103.09437633 101.70027274]\n",
            " [ 99.36127721 101.20382627  95.34026547 102.09694365]\n",
            " [ 99.98708001  98.95468525  99.05410904 102.38025432]\n",
            " [ 93.50787269 103.61547679 103.18753701  98.51356237]\n",
            " [102.20256689  96.19764407  97.54000366  97.05813038]\n",
            " [101.81233513  97.66380453  98.45883627  98.09317768]\n",
            " [102.48979932  95.70413391  98.43161651 101.89861815]]\n"
          ]
        }
      ]
    },
    {
      "cell_type": "code",
      "source": [],
      "metadata": {
        "id": "UESi2z8qK_AV"
      },
      "execution_count": null,
      "outputs": []
    }
  ]
}