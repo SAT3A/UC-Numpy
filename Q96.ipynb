{
  "nbformat": 4,
  "nbformat_minor": 0,
  "metadata": {
    "colab": {
      "provenance": [],
      "authorship_tag": "ABX9TyO0eF749uk2CiCtZ2THW5Su",
      "include_colab_link": true
    },
    "kernelspec": {
      "name": "python3",
      "display_name": "Python 3"
    },
    "language_info": {
      "name": "python"
    }
  },
  "cells": [
    {
      "cell_type": "markdown",
      "metadata": {
        "id": "view-in-github",
        "colab_type": "text"
      },
      "source": [
        "<a href=\"https://colab.research.google.com/github/SAT3A/UC-Numpy/blob/Question/Q96.ipynb\" target=\"_parent\"><img src=\"https://colab.research.google.com/assets/colab-badge.svg\" alt=\"Open In Colab\"/></a>"
      ]
    },
    {
      "cell_type": "code",
      "execution_count": 209,
      "metadata": {
        "colab": {
          "base_uri": "https://localhost:8080/"
        },
        "id": "Utdzzx1eGTeu",
        "outputId": "c83b6b92-6d26-4a06-945f-a97d53ef488a"
      },
      "outputs": [
        {
          "output_type": "stream",
          "name": "stdout",
          "text": [
            "[  283.14   295.25   268.69   282.3  48688.05]\n"
          ]
        }
      ],
      "source": [
        "import numpy as np\n",
        " \n",
        " \n",
        "playway_values = np.array([[   305. ,    324.5,    283.5,    310. ,  64081. ],\n",
        "       [   325.5,    340.5,    320. ,    340.5,  55496. ],\n",
        "       [   324. ,    340.5,    315. ,    330. ,  36152. ],\n",
        "       [   344. ,    344. ,    310. ,    315. ,  35992. ],\n",
        "       [   306.5,    307. ,    291. ,    305. ,  32539. ],\n",
        "       [   274. ,    291. ,    250. ,    258. ,  79402. ],\n",
        "       [   278. ,    284.5,    256. ,    264. ,  35700. ],\n",
        "       [   270. ,    270. ,    238.5,    245. ,  60445. ],\n",
        "       [   218. ,    228. ,    196. ,    197. ,  94031. ],\n",
        "       [   210. ,    229. ,    198.8,    211. , 100412. ],\n",
        "       [   205. ,    248. ,    197.8,    240.5,  50659. ],\n",
        "       [   245. ,    269. ,    232.5,    264. ,  99480. ],\n",
        "       [   264. ,    280. ,    251. ,    270. ,  70136. ],\n",
        "       [   267. ,    280. ,    267. ,    279.5,  30732. ],\n",
        "       [   297.5,    307. ,    280. ,    280.5,  43426. ],\n",
        "       [   274. ,    289. ,    258. ,    285. ,  37098. ],\n",
        "       [   305. ,    309. ,    296.5,    309. ,  31939. ],\n",
        "       [   313. ,    330. ,    295. ,    304. ,  46724. ],\n",
        "       [   300. ,    309. ,    295.5,    300. ,  27213. ],\n",
        "       [   302. ,    306.5,    290. ,    296. ,  13466. ],\n",
        "       [   299. ,    300. ,    287. ,    300. ,  10316. ],\n",
        "       [   302.5,    309. ,    302. ,    306.5,  15698. ]])\n",
        " \n",
        "print(np.round(playway_values.mean(axis=0), 2))"
      ]
    },
    {
      "cell_type": "markdown",
      "source": [
        "## **BEST SOLUTION**"
      ],
      "metadata": {
        "id": "HtWnKSNjHlNO"
      }
    },
    {
      "cell_type": "code",
      "source": [
        "import numpy as np\n",
        " \n",
        " \n",
        "playway_values = np.array([[   305. ,    324.5,    283.5,    310. ,  64081. ],\n",
        "       [   325.5,    340.5,    320. ,    340.5,  55496. ],\n",
        "       [   324. ,    340.5,    315. ,    330. ,  36152. ],\n",
        "       [   344. ,    344. ,    310. ,    315. ,  35992. ],\n",
        "       [   306.5,    307. ,    291. ,    305. ,  32539. ],\n",
        "       [   274. ,    291. ,    250. ,    258. ,  79402. ],\n",
        "       [   278. ,    284.5,    256. ,    264. ,  35700. ],\n",
        "       [   270. ,    270. ,    238.5,    245. ,  60445. ],\n",
        "       [   218. ,    228. ,    196. ,    197. ,  94031. ],\n",
        "       [   210. ,    229. ,    198.8,    211. , 100412. ],\n",
        "       [   205. ,    248. ,    197.8,    240.5,  50659. ],\n",
        "       [   245. ,    269. ,    232.5,    264. ,  99480. ],\n",
        "       [   264. ,    280. ,    251. ,    270. ,  70136. ],\n",
        "       [   267. ,    280. ,    267. ,    279.5,  30732. ],\n",
        "       [   297.5,    307. ,    280. ,    280.5,  43426. ],\n",
        "       [   274. ,    289. ,    258. ,    285. ,  37098. ],\n",
        "       [   305. ,    309. ,    296.5,    309. ,  31939. ],\n",
        "       [   313. ,    330. ,    295. ,    304. ,  46724. ],\n",
        "       [   300. ,    309. ,    295.5,    300. ,  27213. ],\n",
        "       [   302. ,    306.5,    290. ,    296. ,  13466. ],\n",
        "       [   299. ,    300. ,    287. ,    300. ,  10316. ],\n",
        "       [   302.5,    309. ,    302. ,    306.5,  15698. ]])\n",
        " \n",
        "print(np.round(playway_values.mean(axis=0), 2))"
      ],
      "metadata": {
        "colab": {
          "base_uri": "https://localhost:8080/"
        },
        "id": "EM2PUPKaGdNq",
        "outputId": "0e45be0e-3c79-48f3-d24e-cef883bf9eee"
      },
      "execution_count": 210,
      "outputs": [
        {
          "output_type": "stream",
          "name": "stdout",
          "text": [
            "[  283.14   295.25   268.69   282.3  48688.05]\n"
          ]
        }
      ]
    },
    {
      "cell_type": "code",
      "source": [],
      "metadata": {
        "id": "UESi2z8qK_AV"
      },
      "execution_count": null,
      "outputs": []
    }
  ]
}