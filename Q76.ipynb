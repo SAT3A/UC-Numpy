{
  "nbformat": 4,
  "nbformat_minor": 0,
  "metadata": {
    "colab": {
      "provenance": [],
      "authorship_tag": "ABX9TyMXE196Cugco0nLBkRTuOB+",
      "include_colab_link": true
    },
    "kernelspec": {
      "name": "python3",
      "display_name": "Python 3"
    },
    "language_info": {
      "name": "python"
    }
  },
  "cells": [
    {
      "cell_type": "markdown",
      "metadata": {
        "id": "view-in-github",
        "colab_type": "text"
      },
      "source": [
        "<a href=\"https://colab.research.google.com/github/SAT3A/UC-Numpy/blob/Question/Q76.ipynb\" target=\"_parent\"><img src=\"https://colab.research.google.com/assets/colab-badge.svg\" alt=\"Open In Colab\"/></a>"
      ]
    },
    {
      "cell_type": "code",
      "execution_count": 168,
      "metadata": {
        "colab": {
          "base_uri": "https://localhost:8080/"
        },
        "id": "Utdzzx1eGTeu",
        "outputId": "3855bf9a-e32c-46b9-9f4e-2e10f6706721"
      },
      "outputs": [
        {
          "output_type": "stream",
          "name": "stdout",
          "text": [
            "[2 8 0 2]\n",
            "[-2  0 10  0]\n",
            "[  8  26   2 -17   0   1]\n",
            "[ 4 12 -5  3]\n"
          ]
        }
      ],
      "source": [
        "import numpy as np\n",
        " \n",
        " \n",
        "W = np.array([4, 5, 1])\n",
        "Q = np.array([2, 4, -5, 1])\n",
        " \n",
        "print(np.polyadd(W, Q))\n",
        "print(np.polysub(W, Q))\n",
        "print(np.polymul(W, Q))\n",
        "print(np.polyadd(W, 2 * Q))"
      ]
    },
    {
      "cell_type": "markdown",
      "source": [
        "## **BEST SOLUTION**"
      ],
      "metadata": {
        "id": "HtWnKSNjHlNO"
      }
    },
    {
      "cell_type": "code",
      "source": [
        "import numpy as np\n",
        " \n",
        " \n",
        "W = np.array([4, 5, 1])\n",
        "Q = np.array([2, 4, -5, 1])\n",
        " \n",
        "print(np.polyadd(W, Q))\n",
        "print(np.polysub(W, Q))\n",
        "print(np.polymul(W, Q))\n",
        "print(np.polyadd(W, 2 * Q))"
      ],
      "metadata": {
        "colab": {
          "base_uri": "https://localhost:8080/"
        },
        "id": "EM2PUPKaGdNq",
        "outputId": "299cf079-b3b5-4193-8f5d-69dc1707d3bb"
      },
      "execution_count": 169,
      "outputs": [
        {
          "output_type": "stream",
          "name": "stdout",
          "text": [
            "[2 8 0 2]\n",
            "[-2  0 10  0]\n",
            "[  8  26   2 -17   0   1]\n",
            "[ 4 12 -5  3]\n"
          ]
        }
      ]
    },
    {
      "cell_type": "code",
      "source": [],
      "metadata": {
        "id": "UESi2z8qK_AV"
      },
      "execution_count": null,
      "outputs": []
    }
  ]
}