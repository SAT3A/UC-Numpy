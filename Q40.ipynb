{
  "nbformat": 4,
  "nbformat_minor": 0,
  "metadata": {
    "colab": {
      "provenance": [],
      "authorship_tag": "ABX9TyO3dA5nWUvp0KVJQUqPNyME",
      "include_colab_link": true
    },
    "kernelspec": {
      "name": "python3",
      "display_name": "Python 3"
    },
    "language_info": {
      "name": "python"
    }
  },
  "cells": [
    {
      "cell_type": "markdown",
      "metadata": {
        "id": "view-in-github",
        "colab_type": "text"
      },
      "source": [
        "<a href=\"https://colab.research.google.com/github/SAT3A/UC-Numpy/blob/Question/Q40.ipynb\" target=\"_parent\"><img src=\"https://colab.research.google.com/assets/colab-badge.svg\" alt=\"Open In Colab\"/></a>"
      ]
    },
    {
      "cell_type": "code",
      "execution_count": 94,
      "metadata": {
        "id": "Utdzzx1eGTeu"
      },
      "outputs": [],
      "source": [
        "import numpy as np\n",
        " \n",
        " \n",
        "image = np.random.randint(\n",
        "    low=0, \n",
        "    high=256, \n",
        "    size=(200, 300), \n",
        "    dtype=np.uint8\n",
        ")\n",
        "image_sorted = np.sort(image)"
      ]
    },
    {
      "cell_type": "markdown",
      "source": [
        "## **BEST SOLUTION**"
      ],
      "metadata": {
        "id": "HtWnKSNjHlNO"
      }
    },
    {
      "cell_type": "code",
      "source": [
        "import numpy as np\n",
        " \n",
        " \n",
        "image = np.random.randint(\n",
        "    low=0, \n",
        "    high=256, \n",
        "    size=(200, 300), \n",
        "    dtype=np.uint8\n",
        ")\n",
        "image_sorted = np.sort(image)"
      ],
      "metadata": {
        "id": "EM2PUPKaGdNq"
      },
      "execution_count": 95,
      "outputs": []
    },
    {
      "cell_type": "code",
      "source": [],
      "metadata": {
        "id": "UESi2z8qK_AV"
      },
      "execution_count": null,
      "outputs": []
    }
  ]
}