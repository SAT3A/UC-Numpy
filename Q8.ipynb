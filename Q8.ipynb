{
  "nbformat": 4,
  "nbformat_minor": 0,
  "metadata": {
    "colab": {
      "provenance": [],
      "authorship_tag": "ABX9TyPugkEuTyGddSLMaYZBPJAU",
      "include_colab_link": true
    },
    "kernelspec": {
      "name": "python3",
      "display_name": "Python 3"
    },
    "language_info": {
      "name": "python"
    }
  },
  "cells": [
    {
      "cell_type": "markdown",
      "metadata": {
        "id": "view-in-github",
        "colab_type": "text"
      },
      "source": [
        "<a href=\"https://colab.research.google.com/github/SAT3A/UC-Numpy/blob/Question/Q8.ipynb\" target=\"_parent\"><img src=\"https://colab.research.google.com/assets/colab-badge.svg\" alt=\"Open In Colab\"/></a>"
      ]
    },
    {
      "cell_type": "code",
      "execution_count": 20,
      "metadata": {
        "colab": {
          "base_uri": "https://localhost:8080/"
        },
        "id": "Utdzzx1eGTeu",
        "outputId": "bc58a6e1-0f94-413b-d5d6-1dd709532528"
      },
      "outputs": [
        {
          "output_type": "stream",
          "name": "stdout",
          "text": [
            "[ True False False False]\n"
          ]
        }
      ],
      "source": [
        "import numpy as np\n",
        " \n",
        " \n",
        "A = np.array([0.4, 0.5, 0.3, 0.9])\n",
        "B = np.array([0.38, 0.51, 0.3, 0.91])\n",
        " \n",
        "print(A > B)"
      ]
    },
    {
      "cell_type": "markdown",
      "source": [
        "## **BEST SOLUTION**"
      ],
      "metadata": {
        "id": "HtWnKSNjHlNO"
      }
    },
    {
      "cell_type": "code",
      "source": [
        "import numpy as np\n",
        " \n",
        " \n",
        "A = np.array([0.4, 0.5, 0.3, 0.9])\n",
        "B = np.array([0.38, 0.51, 0.3, 0.91])\n",
        " \n",
        "print(A > B)\n",
        "\n",
        "\n",
        "print(\"\\nSOLUSI LAIN \\n\")\n",
        "\n",
        "import numpy as np\n",
        " \n",
        " \n",
        "A = np.array([0.4, 0.5, 0.3, 0.9])\n",
        "B = np.array([0.38, 0.51, 0.3, 0.91])\n",
        " \n",
        "print(np.greater(A, B))"
      ],
      "metadata": {
        "colab": {
          "base_uri": "https://localhost:8080/"
        },
        "id": "EM2PUPKaGdNq",
        "outputId": "d726f96e-4ccc-492f-90ad-dd8918e95d2b"
      },
      "execution_count": 24,
      "outputs": [
        {
          "output_type": "stream",
          "name": "stdout",
          "text": [
            "[ True False False False]\n",
            "\n",
            "SOLUSI LAIN \n",
            "\n",
            "[ True False False False]\n"
          ]
        }
      ]
    },
    {
      "cell_type": "code",
      "source": [],
      "metadata": {
        "id": "UESi2z8qK_AV"
      },
      "execution_count": null,
      "outputs": []
    }
  ]
}