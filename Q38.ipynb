{
  "nbformat": 4,
  "nbformat_minor": 0,
  "metadata": {
    "colab": {
      "provenance": [],
      "authorship_tag": "ABX9TyOkQOo+g7TcrY2LnuCEUepH",
      "include_colab_link": true
    },
    "kernelspec": {
      "name": "python3",
      "display_name": "Python 3"
    },
    "language_info": {
      "name": "python"
    }
  },
  "cells": [
    {
      "cell_type": "markdown",
      "metadata": {
        "id": "view-in-github",
        "colab_type": "text"
      },
      "source": [
        "<a href=\"https://colab.research.google.com/github/SAT3A/UC-Numpy/blob/Question/Q38.ipynb\" target=\"_parent\"><img src=\"https://colab.research.google.com/assets/colab-badge.svg\" alt=\"Open In Colab\"/></a>"
      ]
    },
    {
      "cell_type": "code",
      "execution_count": 89,
      "metadata": {
        "id": "Utdzzx1eGTeu"
      },
      "outputs": [],
      "source": [
        "import numpy as np\n",
        " \n",
        " \n",
        "A = np.array([[[4, 5, 4, 2],\n",
        "               [6, 3, 5, 1],\n",
        "               [5, 2, 1, 2]],\n",
        "              \n",
        "              [[7, 2, 3, 1],\n",
        "               [6, 2, 0, 9],\n",
        "               [0, 1, 9, 1]]])"
      ]
    },
    {
      "cell_type": "markdown",
      "source": [
        "## **BEST SOLUTION**"
      ],
      "metadata": {
        "id": "HtWnKSNjHlNO"
      }
    },
    {
      "cell_type": "code",
      "source": [
        "import numpy as np\n",
        " \n",
        " \n",
        "A = np.array([[[4, 5, 4, 2],\n",
        "               [6, 3, 5, 1],\n",
        "               [5, 2, 1, 2]],\n",
        "              \n",
        "              [[7, 2, 3, 1],\n",
        "               [6, 2, 0, 9],\n",
        "               [0, 1, 9, 1]]])"
      ],
      "metadata": {
        "id": "EM2PUPKaGdNq"
      },
      "execution_count": 90,
      "outputs": []
    },
    {
      "cell_type": "code",
      "source": [],
      "metadata": {
        "id": "UESi2z8qK_AV"
      },
      "execution_count": null,
      "outputs": []
    }
  ]
}