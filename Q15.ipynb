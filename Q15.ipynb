{
  "nbformat": 4,
  "nbformat_minor": 0,
  "metadata": {
    "colab": {
      "provenance": [],
      "authorship_tag": "ABX9TyOODqI7YpLZXhgO+wUeSrAi",
      "include_colab_link": true
    },
    "kernelspec": {
      "name": "python3",
      "display_name": "Python 3"
    },
    "language_info": {
      "name": "python"
    }
  },
  "cells": [
    {
      "cell_type": "markdown",
      "metadata": {
        "id": "view-in-github",
        "colab_type": "text"
      },
      "source": [
        "<a href=\"https://colab.research.google.com/github/SAT3A/UC-Numpy/blob/Question/Q15.ipynb\" target=\"_parent\"><img src=\"https://colab.research.google.com/assets/colab-badge.svg\" alt=\"Open In Colab\"/></a>"
      ]
    },
    {
      "cell_type": "code",
      "execution_count": 41,
      "metadata": {
        "colab": {
          "base_uri": "https://localhost:8080/"
        },
        "id": "Utdzzx1eGTeu",
        "outputId": "b93da65b-5b30-469f-c4c3-7d632f00480d"
      },
      "outputs": [
        {
          "output_type": "stream",
          "name": "stdout",
          "text": [
            "[[ 0.88389311  0.19586502  0.35753652 -2.34326191]\n",
            " [-1.08483259  0.55969629  0.93946935 -0.97848104]\n",
            " [ 0.50309684  0.40641447  0.32346101 -0.49341088]\n",
            " [-0.79201679 -0.84236793 -1.27950266  0.24571517]\n",
            " [-0.0441948   1.56763255  1.05110868  0.40636843]\n",
            " [-0.1686461  -3.18970279  1.12013226  1.33277821]\n",
            " [-0.24333877 -0.13003071 -0.10901737  1.55618644]\n",
            " [ 0.12877835 -2.06694872 -0.88549315 -1.10457948]\n",
            " [ 0.93286635  2.059838   -0.93493796 -1.61299022]\n",
            " [ 0.52706972 -1.55110074  0.32961334 -1.13652654]]\n"
          ]
        }
      ],
      "source": [
        "import numpy as np\n",
        " \n",
        " \n",
        "np.random.seed(20)\n",
        "print(np.random.randn(10, 4))"
      ]
    },
    {
      "cell_type": "markdown",
      "source": [
        "## **BEST SOLUTION**"
      ],
      "metadata": {
        "id": "HtWnKSNjHlNO"
      }
    },
    {
      "cell_type": "code",
      "source": [
        "import numpy as np\n",
        " \n",
        " \n",
        "np.random.seed(20)\n",
        "print(np.random.randn(10, 4))"
      ],
      "metadata": {
        "colab": {
          "base_uri": "https://localhost:8080/"
        },
        "id": "EM2PUPKaGdNq",
        "outputId": "56f86ac4-b811-49b9-9a8d-c7ade0bca98a"
      },
      "execution_count": 42,
      "outputs": [
        {
          "output_type": "stream",
          "name": "stdout",
          "text": [
            "[[ 0.88389311  0.19586502  0.35753652 -2.34326191]\n",
            " [-1.08483259  0.55969629  0.93946935 -0.97848104]\n",
            " [ 0.50309684  0.40641447  0.32346101 -0.49341088]\n",
            " [-0.79201679 -0.84236793 -1.27950266  0.24571517]\n",
            " [-0.0441948   1.56763255  1.05110868  0.40636843]\n",
            " [-0.1686461  -3.18970279  1.12013226  1.33277821]\n",
            " [-0.24333877 -0.13003071 -0.10901737  1.55618644]\n",
            " [ 0.12877835 -2.06694872 -0.88549315 -1.10457948]\n",
            " [ 0.93286635  2.059838   -0.93493796 -1.61299022]\n",
            " [ 0.52706972 -1.55110074  0.32961334 -1.13652654]]\n"
          ]
        }
      ]
    },
    {
      "cell_type": "code",
      "source": [],
      "metadata": {
        "id": "UESi2z8qK_AV"
      },
      "execution_count": null,
      "outputs": []
    }
  ]
}