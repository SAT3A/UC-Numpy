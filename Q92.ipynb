{
  "nbformat": 4,
  "nbformat_minor": 0,
  "metadata": {
    "colab": {
      "provenance": [],
      "authorship_tag": "ABX9TyNqOOrV8UON/JKW/5CzhiVe",
      "include_colab_link": true
    },
    "kernelspec": {
      "name": "python3",
      "display_name": "Python 3"
    },
    "language_info": {
      "name": "python"
    }
  },
  "cells": [
    {
      "cell_type": "markdown",
      "metadata": {
        "id": "view-in-github",
        "colab_type": "text"
      },
      "source": [
        "<a href=\"https://colab.research.google.com/github/SAT3A/UC-Numpy/blob/Question/Q92.ipynb\" target=\"_parent\"><img src=\"https://colab.research.google.com/assets/colab-badge.svg\" alt=\"Open In Colab\"/></a>"
      ]
    },
    {
      "cell_type": "code",
      "execution_count": 201,
      "metadata": {
        "colab": {
          "base_uri": "https://localhost:8080/"
        },
        "id": "Utdzzx1eGTeu",
        "outputId": "915b70d4-4128-40fe-9653-01b16b22e0db"
      },
      "outputs": [
        {
          "output_type": "stream",
          "name": "stdout",
          "text": [
            "[['Profile' 'Time' 'Course' 'Open' 'Low' 'High' 'Turn' 'Share']\n",
            " ['11B(11BIT)' '17kwi17:01' '391.00' '383.50' '383.00' '394.00' '4994874' '19.034%']\n",
            " ['CDR(CDPROJEKT)' '17kwi17:01' '339.50' '338.30' '337.00' '344.20' '79245368' '39.618%']\n",
            " ['CIG(CIGAMES)' '17kwi17:03' '0.742' '0.772' '0.730' '0.772' '971459' '1.855%']\n",
            " ['PLW(PLAYWAY)' '17kwi17:03' '387.50' '374.00' '373.00' '388.00' '12661786' '10.638%']\n",
            " ['TEN(TSGAMES)' '17kwi17:02' '349.50' '332.00' '330.00' '353.50' '13697060' '28.855%']]\n"
          ]
        }
      ],
      "source": [
        "import numpy as np\n",
        " \n",
        " \n",
        "np.set_printoptions(linewidth=160, suppress=True)\n",
        " \n",
        "wig_games = np.array([['Profile', 'Time', 'Course', 'Change', 'Change%', 'Ref.', 'Open', 'Low', 'High', 'Volume', 'Turn', 'Share'],\n",
        "       ['11B(11BIT)', '17kwi17:01', '391.00', '+8.00', '(+2.09%)', '383.00', '383.50', '383.00', '394.00', '12784', '4994874', '19.034%'],\n",
        "       ['CDR(CDPROJEKT)', '17kwi17:01', '339.50', '+5.30', '(+1.59%)', '334.20', '338.30', '337.00', '344.20', '233059', '79245368', '39.618%'],\n",
        "       ['CIG(CIGAMES)', '17kwi17:03', '0.742', '-0.012', '(-1.59%)', '0.754', '0.772', '0.730', '0.772', '1311078', '971459', '1.855%'],\n",
        "       ['PLW(PLAYWAY)', '17kwi17:03', '387.50', '+18.00', '(+4.87%)', '369.50', '374.00', '373.00', '388.00', '33206', '12661786', '10.638%'],\n",
        "       ['TEN(TSGAMES)', '17kwi17:02', '349.50', '+22.50', '(+6.88%)', '327.00', '332.00', '330.00', '353.50', '39793', '13697060', '28.855%']], dtype='<U14')\n",
        " \n",
        "wig_games = np.delete(wig_games, [3, 4, 5, 9], axis=1)\n",
        "print(wig_games)"
      ]
    },
    {
      "cell_type": "markdown",
      "source": [
        "## **BEST SOLUTION**"
      ],
      "metadata": {
        "id": "HtWnKSNjHlNO"
      }
    },
    {
      "cell_type": "code",
      "source": [
        "import numpy as np\n",
        " \n",
        " \n",
        "np.set_printoptions(linewidth=160, suppress=True)\n",
        " \n",
        "wig_games = np.array([['Profile', 'Time', 'Course', 'Change', 'Change%', 'Ref.', 'Open', 'Low', 'High', 'Volume', 'Turn', 'Share'],\n",
        "       ['11B(11BIT)', '17kwi17:01', '391.00', '+8.00', '(+2.09%)', '383.00', '383.50', '383.00', '394.00', '12784', '4994874', '19.034%'],\n",
        "       ['CDR(CDPROJEKT)', '17kwi17:01', '339.50', '+5.30', '(+1.59%)', '334.20', '338.30', '337.00', '344.20', '233059', '79245368', '39.618%'],\n",
        "       ['CIG(CIGAMES)', '17kwi17:03', '0.742', '-0.012', '(-1.59%)', '0.754', '0.772', '0.730', '0.772', '1311078', '971459', '1.855%'],\n",
        "       ['PLW(PLAYWAY)', '17kwi17:03', '387.50', '+18.00', '(+4.87%)', '369.50', '374.00', '373.00', '388.00', '33206', '12661786', '10.638%'],\n",
        "       ['TEN(TSGAMES)', '17kwi17:02', '349.50', '+22.50', '(+6.88%)', '327.00', '332.00', '330.00', '353.50', '39793', '13697060', '28.855%']], dtype='<U14')\n",
        " \n",
        "wig_games = np.delete(wig_games, [3, 4, 5, 9], axis=1)\n",
        "print(wig_games)"
      ],
      "metadata": {
        "colab": {
          "base_uri": "https://localhost:8080/"
        },
        "id": "EM2PUPKaGdNq",
        "outputId": "92066d12-8da4-45f4-d3d5-b711b88b263f"
      },
      "execution_count": 202,
      "outputs": [
        {
          "output_type": "stream",
          "name": "stdout",
          "text": [
            "[['Profile' 'Time' 'Course' 'Open' 'Low' 'High' 'Turn' 'Share']\n",
            " ['11B(11BIT)' '17kwi17:01' '391.00' '383.50' '383.00' '394.00' '4994874' '19.034%']\n",
            " ['CDR(CDPROJEKT)' '17kwi17:01' '339.50' '338.30' '337.00' '344.20' '79245368' '39.618%']\n",
            " ['CIG(CIGAMES)' '17kwi17:03' '0.742' '0.772' '0.730' '0.772' '971459' '1.855%']\n",
            " ['PLW(PLAYWAY)' '17kwi17:03' '387.50' '374.00' '373.00' '388.00' '12661786' '10.638%']\n",
            " ['TEN(TSGAMES)' '17kwi17:02' '349.50' '332.00' '330.00' '353.50' '13697060' '28.855%']]\n"
          ]
        }
      ]
    },
    {
      "cell_type": "code",
      "source": [],
      "metadata": {
        "id": "UESi2z8qK_AV"
      },
      "execution_count": null,
      "outputs": []
    }
  ]
}