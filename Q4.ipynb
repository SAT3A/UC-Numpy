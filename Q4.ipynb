{
  "nbformat": 4,
  "nbformat_minor": 0,
  "metadata": {
    "colab": {
      "provenance": [],
      "authorship_tag": "ABX9TyMmKwePsUimfuTKo0Pf7mU4",
      "include_colab_link": true
    },
    "kernelspec": {
      "name": "python3",
      "display_name": "Python 3"
    },
    "language_info": {
      "name": "python"
    }
  },
  "cells": [
    {
      "cell_type": "markdown",
      "metadata": {
        "id": "view-in-github",
        "colab_type": "text"
      },
      "source": [
        "<a href=\"https://colab.research.google.com/github/SAT3A/UC-Numpy/blob/Question/Q4.ipynb\" target=\"_parent\"><img src=\"https://colab.research.google.com/assets/colab-badge.svg\" alt=\"Open In Colab\"/></a>"
      ]
    },
    {
      "cell_type": "code",
      "execution_count": 12,
      "metadata": {
        "colab": {
          "base_uri": "https://localhost:8080/"
        },
        "id": "Utdzzx1eGTeu",
        "outputId": "14f204f8-a587-4d11-8dbb-e98bcc706bc7"
      },
      "outputs": [
        {
          "output_type": "stream",
          "name": "stdout",
          "text": [
            "A: [False False False]\n",
            "B: [False  True False]\n",
            "C: [ True False False]\n",
            "D: [ True False]\n"
          ]
        }
      ],
      "source": [
        "import numpy as np\n",
        " \n",
        " \n",
        "A = np.array([[0, 0, 0],\n",
        "              [0, 0, 0]])\n",
        " \n",
        "B = np.array([[0, 0, 0],\n",
        "              [0, 1, 0]])\n",
        " \n",
        "C = np.array([[False, False, False],\n",
        "              [True, False, False]])\n",
        " \n",
        "D = np.array([[0.1, 0.0]])\n",
        " \n",
        "for name, array in zip(list('ABCD'), [A, B, C, D]):\n",
        "    print(f'{name}: {np.any(array, axis=0)}')"
      ]
    },
    {
      "cell_type": "markdown",
      "source": [
        "## **BEST SOLUTION**"
      ],
      "metadata": {
        "id": "HtWnKSNjHlNO"
      }
    },
    {
      "cell_type": "code",
      "source": [
        "import numpy as np\n",
        " \n",
        " \n",
        "A = np.array([[0, 0, 0],\n",
        "              [0, 0, 0]])\n",
        " \n",
        "B = np.array([[0, 0, 0],\n",
        "              [0, 1, 0]])\n",
        " \n",
        "C = np.array([[False, False, False],\n",
        "              [True, False, False]])\n",
        " \n",
        "D = np.array([[0.1, 0.0]])\n",
        " \n",
        "for name, array in zip(list('ABCD'), [A, B, C, D]):\n",
        "    print(f'{name}: {np.any(array, axis=0)}')"
      ],
      "metadata": {
        "colab": {
          "base_uri": "https://localhost:8080/"
        },
        "id": "EM2PUPKaGdNq",
        "outputId": "1a6ec6ae-d7af-46ee-e305-1abdfce26ae7"
      },
      "execution_count": 13,
      "outputs": [
        {
          "output_type": "stream",
          "name": "stdout",
          "text": [
            "A: [False False False]\n",
            "B: [False  True False]\n",
            "C: [ True False False]\n",
            "D: [ True False]\n"
          ]
        }
      ]
    }
  ]
}