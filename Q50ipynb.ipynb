{
  "nbformat": 4,
  "nbformat_minor": 0,
  "metadata": {
    "colab": {
      "provenance": [],
      "authorship_tag": "ABX9TyNp9dX3fU19U2Y66mrrLcn8",
      "include_colab_link": true
    },
    "kernelspec": {
      "name": "python3",
      "display_name": "Python 3"
    },
    "language_info": {
      "name": "python"
    }
  },
  "cells": [
    {
      "cell_type": "markdown",
      "metadata": {
        "id": "view-in-github",
        "colab_type": "text"
      },
      "source": [
        "<a href=\"https://colab.research.google.com/github/SAT3A/UC-Numpy/blob/Question/Q50ipynb.ipynb\" target=\"_parent\"><img src=\"https://colab.research.google.com/assets/colab-badge.svg\" alt=\"Open In Colab\"/></a>"
      ]
    },
    {
      "cell_type": "code",
      "execution_count": 114,
      "metadata": {
        "id": "Utdzzx1eGTeu"
      },
      "outputs": [],
      "source": [
        "import numpy as np\n",
        " \n",
        " \n",
        "image = np.random.randint(\n",
        "    low=0, \n",
        "    high=256, \n",
        "    size=(10, 10, 3), \n",
        "    dtype=np.uint8\n",
        ")\n",
        "result = image[:5, :5, :]"
      ]
    },
    {
      "cell_type": "markdown",
      "source": [
        "## **BEST SOLUTION**"
      ],
      "metadata": {
        "id": "HtWnKSNjHlNO"
      }
    },
    {
      "cell_type": "code",
      "source": [
        "import numpy as np\n",
        " \n",
        " \n",
        "image = np.random.randint(\n",
        "    low=0, \n",
        "    high=256, \n",
        "    size=(10, 10, 3), \n",
        "    dtype=np.uint8\n",
        ")\n",
        "result = image[:5, :5, :]"
      ],
      "metadata": {
        "id": "EM2PUPKaGdNq"
      },
      "execution_count": 115,
      "outputs": []
    },
    {
      "cell_type": "code",
      "source": [],
      "metadata": {
        "id": "UESi2z8qK_AV"
      },
      "execution_count": null,
      "outputs": []
    }
  ]
}